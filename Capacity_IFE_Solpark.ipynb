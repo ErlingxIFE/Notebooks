{
 "cells": [
  {
   "cell_type": "code",
   "execution_count": 1,
   "id": "0f14fb6f-3c76-4bc8-b50d-47a489453ae4",
   "metadata": {},
   "outputs": [],
   "source": [
    "import pandas as pd\n",
    "import numpy as np\n"
   ]
  },
  {
   "cell_type": "markdown",
   "id": "fd19d53b-fb1c-46d9-8c94-8f1fd3e7ae5d",
   "metadata": {},
   "source": [
    "3 x JKM335          , STC Wp: 335.74\n",
    "\n",
    "3 x JKM325          , STC Wp: 320.34\n",
    "\n",
    "3 x REC             , STC Wp: 353.3\n",
    "\n",
    "3 x SunP            , STC Wp: 396.25\n",
    "\n",
    "3 x Talesun         , STC Wp: 332.65\n",
    "\n",
    "3 x Talesun FrLess  , STC Wp: 336.34"
   ]
  },
  {
   "cell_type": "code",
   "execution_count": null,
   "id": "e84659ff-ee22-4e8e-8663-d475e498f76a",
   "metadata": {},
   "outputs": [],
   "source": [
    "Wp = {'JKM335'}"
   ]
  },
  {
   "cell_type": "code",
   "execution_count": 4,
   "id": "8710ce9e-42fb-4a15-9060-1a2b85d413c5",
   "metadata": {},
   "outputs": [],
   "source": [
    "tot_wp = (335.74 + 320.34 + 353.3 + 396.25 + 332.65 + 336.34 ) * 3"
   ]
  },
  {
   "cell_type": "code",
   "execution_count": 5,
   "id": "103af966-002d-4840-bcfa-54c2bd8d1466",
   "metadata": {},
   "outputs": [
    {
     "data": {
      "text/plain": [
       "6223.86"
      ]
     },
     "execution_count": 5,
     "metadata": {},
     "output_type": "execute_result"
    }
   ],
   "source": [
    "tot_wp"
   ]
  },
  {
   "cell_type": "code",
   "execution_count": 9,
   "id": "aae6492d-60b0-4a76-b6e3-2b03f081d661",
   "metadata": {},
   "outputs": [],
   "source": [
    "park_cap = float(6410.33) + float(6717.549) + float(2824.494) + float(3172.604)"
   ]
  },
  {
   "cell_type": "code",
   "execution_count": 10,
   "id": "6773ab2b-9edb-4813-bcf9-55a2d28cad41",
   "metadata": {},
   "outputs": [
    {
     "data": {
      "text/plain": [
       "19124.977000000003"
      ]
     },
     "execution_count": 10,
     "metadata": {},
     "output_type": "execute_result"
    }
   ],
   "source": [
    "park_cap"
   ]
  },
  {
   "cell_type": "code",
   "execution_count": null,
   "id": "144ca3f4-e802-48c4-a224-502c6b234cef",
   "metadata": {},
   "outputs": [],
   "source": []
  }
 ],
 "metadata": {
  "kernelspec": {
   "display_name": "Python 3 (ipykernel)",
   "language": "python",
   "name": "python3"
  },
  "language_info": {
   "codemirror_mode": {
    "name": "ipython",
    "version": 3
   },
   "file_extension": ".py",
   "mimetype": "text/x-python",
   "name": "python",
   "nbconvert_exporter": "python",
   "pygments_lexer": "ipython3",
   "version": "3.11.4"
  }
 },
 "nbformat": 4,
 "nbformat_minor": 5
}
