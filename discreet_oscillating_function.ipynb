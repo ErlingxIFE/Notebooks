{
 "cells": [
  {
   "cell_type": "code",
   "execution_count": null,
   "id": "9cd2bd5b-1459-4d4c-bc2e-70812fade23b",
   "metadata": {},
   "outputs": [],
   "source": [
    "import numpy as np\n"
   ]
  },
  {
   "cell_type": "code",
   "execution_count": null,
   "id": "106a7606-6031-473d-809d-4f93eb78b95e",
   "metadata": {},
   "outputs": [],
   "source": [
    "def DOF(x):\n",
    "\n",
    "    "
   ]
  }
 ],
 "metadata": {
  "kernelspec": {
   "display_name": "Python 3 (ipykernel)",
   "language": "python",
   "name": "python3"
  },
  "language_info": {
   "codemirror_mode": {
    "name": "ipython",
    "version": 3
   },
   "file_extension": ".py",
   "mimetype": "text/x-python",
   "name": "python",
   "nbconvert_exporter": "python",
   "pygments_lexer": "ipython3",
   "version": "3.11.4"
  }
 },
 "nbformat": 4,
 "nbformat_minor": 5
}
