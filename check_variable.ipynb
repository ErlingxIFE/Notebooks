{
 "cells": [
  {
   "cell_type": "code",
   "execution_count": 1,
   "id": "df829092-d2e4-4c66-af25-2ce22fceeeda",
   "metadata": {},
   "outputs": [],
   "source": [
    "import mysql.connector \n",
    "import pandas as pd    \n",
    "import matplotlib.pyplot as plt"
   ]
  },
  {
   "cell_type": "code",
   "execution_count": 2,
   "id": "5eaa3cb6-c488-4cdd-850a-42bdf9876437",
   "metadata": {},
   "outputs": [],
   "source": [
    "_user='ifePVsystem'      # brukernavn\n",
    "_password='Sol1Sinnet'   # passord\n",
    "#_host='128.39.229.38'  \n",
    "_host = 'kj-sol-01'        # evt. kj-sol-01, dette er adressen der serveren bor, og kan bare nåes på IFEs internnett (kabel eller VPN)\n",
    "_database='pvs'          # navnet på databasen vår. En host kan ha flere databaser (som en blokk kan ha flere leiligheter)"
   ]
  },
  {
   "cell_type": "code",
   "execution_count": 3,
   "id": "f404f84e-2e6b-49d6-92ee-dbf3835dce6b",
   "metadata": {},
   "outputs": [
    {
     "name": "stdout",
     "output_type": "stream",
     "text": [
      "id__overeasy_data\n",
      "date_time\n",
      "date_time_int5\n",
      "OEvert_irr_west_west\n",
      "OEvert_tint_west_west\n",
      "OEvert_ws_west_west\n",
      "OEvert_irr_west_east\n",
      "OEvert_tint_west_east\n",
      "OEvert_ws_west_east\n",
      "OEvert_irr_east_west\n",
      "OEvert_tint_east_west\n",
      "OEvert_tmod_east_west\n",
      "OEvert_ws_east_west\n",
      "OEvert_irr_east_east\n",
      "OEvert_tint_east_east\n",
      "OEvert_tmod_east_east\n",
      "OEvert_ws_east_east\n",
      "OEvert_irr_center_west\n",
      "OEvert_tint_center_west\n",
      "OEvert_tmod_center_west\n",
      "OEvert_ws_center_west\n",
      "OEvert_irr_center_east\n",
      "OEvert_tint_center_east\n",
      "OEvert_tmod_center_east\n",
      "OEvert_ws_center_east\n",
      "INVQ1_PAC_OE1\n",
      "INVQ1_PDC_OE1\n",
      "INVQ1_ReP_OE1\n",
      "INVQ1_ApP_OE1\n",
      "INVQ1_PF_OE1\n",
      "INVQ1_CAC_OE1\n",
      "INVQ1_GrFrq_OE1\n",
      "INVQ1_PVL1L2_OE1\n",
      "INVQ1_CACPh1_OE1\n",
      "INVQ1_ETot_OE1\n",
      "INVQ1_VDC_OE1\n",
      "INVQ1_CDCTot_OE1\n",
      "OEhor_irr\n",
      "OEhor_tint\n",
      "OEhor_tamb\n",
      "OEhor_ws\n"
     ]
    },
    {
     "name": "stderr",
     "output_type": "stream",
     "text": [
      "C:\\Users\\IFE12748\\AppData\\Local\\Temp\\ipykernel_1480\\2194151452.py:4: UserWarning: pandas only supports SQLAlchemy connectable (engine/connection) or database string URI or sqlite3 DBAPI2 connection. Other DBAPI2 objects are not tested. Please consider using SQLAlchemy.\n",
      "  solparkDF = pd.read_sql(query, con=connection)\n"
     ]
    },
    {
     "data": {
      "text/plain": [
       "[None,\n",
       " None,\n",
       " None,\n",
       " None,\n",
       " None,\n",
       " None,\n",
       " None,\n",
       " None,\n",
       " None,\n",
       " None,\n",
       " None,\n",
       " None,\n",
       " None,\n",
       " None,\n",
       " None,\n",
       " None,\n",
       " None,\n",
       " None,\n",
       " None,\n",
       " None,\n",
       " None,\n",
       " None,\n",
       " None,\n",
       " None,\n",
       " None,\n",
       " None,\n",
       " None,\n",
       " None,\n",
       " None,\n",
       " None,\n",
       " None,\n",
       " None,\n",
       " None,\n",
       " None,\n",
       " None,\n",
       " None,\n",
       " None,\n",
       " None,\n",
       " None,\n",
       " None,\n",
       " None]"
      ]
     },
     "execution_count": 3,
     "metadata": {},
     "output_type": "execute_result"
    }
   ],
   "source": [
    "\n",
    "query = f\"SHOW COLUMNS FROM `{'overeasy_data'}`\"\n",
    "\n",
    "connection = mysql.connector.connect(user=_user, password=_password, host=_host, database=_database)\n",
    "solparkDF = pd.read_sql(query, con=connection)\n",
    "connection.close()  \n",
    "[print(i[1][0]) for i in solparkDF.iterrows()]"
   ]
  },
  {
   "cell_type": "code",
   "execution_count": 5,
   "id": "18e8ff06-2ed0-4242-a02c-54e59fb2a373",
   "metadata": {},
   "outputs": [
    {
     "name": "stderr",
     "output_type": "stream",
     "text": [
      "C:\\Users\\IFE12748\\AppData\\Local\\Temp\\ipykernel_1480\\612445281.py:15: UserWarning: pandas only supports SQLAlchemy connectable (engine/connection) or database string URI or sqlite3 DBAPI2 connection. Other DBAPI2 objects are not tested. Please consider using SQLAlchemy.\n",
      "  solparkDF = pd.read_sql(query, con=connection)\n"
     ]
    },
    {
     "data": {
      "text/html": [
       "<div>\n",
       "<style scoped>\n",
       "    .dataframe tbody tr th:only-of-type {\n",
       "        vertical-align: middle;\n",
       "    }\n",
       "\n",
       "    .dataframe tbody tr th {\n",
       "        vertical-align: top;\n",
       "    }\n",
       "\n",
       "    .dataframe thead th {\n",
       "        text-align: right;\n",
       "    }\n",
       "</style>\n",
       "<table border=\"1\" class=\"dataframe\">\n",
       "  <thead>\n",
       "    <tr style=\"text-align: right;\">\n",
       "      <th></th>\n",
       "      <th>date_time</th>\n",
       "      <th>KZPR_IR1C</th>\n",
       "    </tr>\n",
       "    <tr>\n",
       "      <th>date_time</th>\n",
       "      <th></th>\n",
       "      <th></th>\n",
       "    </tr>\n",
       "  </thead>\n",
       "  <tbody>\n",
       "    <tr>\n",
       "      <th>2024-04-25 10:48:12</th>\n",
       "      <td>2024-04-25 10:48:12</td>\n",
       "      <td>632.0</td>\n",
       "    </tr>\n",
       "    <tr>\n",
       "      <th>2024-04-25 10:48:13</th>\n",
       "      <td>2024-04-25 10:48:13</td>\n",
       "      <td>632.0</td>\n",
       "    </tr>\n",
       "    <tr>\n",
       "      <th>2024-04-25 10:48:14</th>\n",
       "      <td>2024-04-25 10:48:14</td>\n",
       "      <td>632.0</td>\n",
       "    </tr>\n",
       "    <tr>\n",
       "      <th>2024-04-25 10:48:15</th>\n",
       "      <td>2024-04-25 10:48:15</td>\n",
       "      <td>633.0</td>\n",
       "    </tr>\n",
       "    <tr>\n",
       "      <th>2024-04-25 10:48:16</th>\n",
       "      <td>2024-04-25 10:48:16</td>\n",
       "      <td>634.0</td>\n",
       "    </tr>\n",
       "  </tbody>\n",
       "</table>\n",
       "</div>"
      ],
      "text/plain": [
       "                              date_time  KZPR_IR1C\n",
       "date_time                                         \n",
       "2024-04-25 10:48:12 2024-04-25 10:48:12      632.0\n",
       "2024-04-25 10:48:13 2024-04-25 10:48:13      632.0\n",
       "2024-04-25 10:48:14 2024-04-25 10:48:14      632.0\n",
       "2024-04-25 10:48:15 2024-04-25 10:48:15      633.0\n",
       "2024-04-25 10:48:16 2024-04-25 10:48:16      634.0"
      ]
     },
     "execution_count": 5,
     "metadata": {},
     "output_type": "execute_result"
    }
   ],
   "source": [
    "\n",
    "variable_name = 'KZPR_IR1C'\n",
    "table_name = 'onecell_data'\n",
    "\n",
    "start_time = '2024-04-21 00:00:00'\n",
    "end_time = '2024-04-25 23:59:40'\n",
    "\n",
    "query = f'SELECT date_time, {variable_name}\\\n",
    "     FROM {table_name}\\\n",
    "     WHERE date_time\\\n",
    "     BETWEEN \"{start_time}\" AND \"{end_time}\"\\\n",
    "     ORDER by date_time\\\n",
    "     LIMIT 10000000'\n",
    "\n",
    "connection = mysql.connector.connect(user=_user, password=_password, host=_host, database=_database)\n",
    "solparkDF = pd.read_sql(query, con=connection)\n",
    "connection.close()  \n",
    "\n",
    "solparkDF.index = solparkDF.date_time\n",
    "solparkDF.tail()"
   ]
  },
  {
   "cell_type": "code",
   "execution_count": null,
   "id": "f692e52b-1b16-4b5a-a3f4-8475bf8ad061",
   "metadata": {},
   "outputs": [],
   "source": [
    "10 = Vmeas\n",
    "\n",
    "\n",
    "ln\u0010\n",
    "10\n",
    "z0\n",
    "\u0011\n",
    "ln\u0010\n",
    "zmeas\n",
    "z0\n",
    "\u0011\n",
    "\n",
    ""
   ]
  }
 ],
 "metadata": {
  "kernelspec": {
   "display_name": "Python 3 (ipykernel)",
   "language": "python",
   "name": "python3"
  },
  "language_info": {
   "codemirror_mode": {
    "name": "ipython",
    "version": 3
   },
   "file_extension": ".py",
   "mimetype": "text/x-python",
   "name": "python",
   "nbconvert_exporter": "python",
   "pygments_lexer": "ipython3",
   "version": "3.11.4"
  }
 },
 "nbformat": 4,
 "nbformat_minor": 5
}
