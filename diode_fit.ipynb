{
 "cells": [
  {
   "cell_type": "code",
   "execution_count": 10,
   "id": "a88b9181-1425-4dd7-a8ea-17d69600448d",
   "metadata": {},
   "outputs": [
    {
     "ename": "ModuleNotFoundError",
     "evalue": "No module named 'IVmodelling'",
     "output_type": "error",
     "traceback": [
      "\u001b[1;31m---------------------------------------------------------------------------\u001b[0m",
      "\u001b[1;31mModuleNotFoundError\u001b[0m                       Traceback (most recent call last)",
      "Cell \u001b[1;32mIn[10], line 9\u001b[0m\n\u001b[0;32m      6\u001b[0m \u001b[38;5;28;01mimport\u001b[39;00m \u001b[38;5;21;01mtime\u001b[39;00m\n\u001b[0;32m      8\u001b[0m sys\u001b[38;5;241m.\u001b[39mpath\u001b[38;5;241m.\u001b[39mappend(\u001b[38;5;124mr\u001b[39m\u001b[38;5;124m\"\u001b[39m\u001b[38;5;124mC:\u001b[39m\u001b[38;5;124m\\\u001b[39m\u001b[38;5;124mUsers\u001b[39m\u001b[38;5;124m\\\u001b[39m\u001b[38;5;124mIFE12748\u001b[39m\u001b[38;5;124m\\\u001b[39m\u001b[38;5;124mPycharmProjects\u001b[39m\u001b[38;5;124m\\\u001b[39m\u001b[38;5;124mIV_fit\u001b[39m\u001b[38;5;124m\"\u001b[39m)\n\u001b[1;32m----> 9\u001b[0m \u001b[38;5;28;01mfrom\u001b[39;00m \u001b[38;5;21;01msrc\u001b[39;00m\u001b[38;5;21;01m.\u001b[39;00m\u001b[38;5;21;01mIVmodelling\u001b[39;00m\u001b[38;5;21;01m.\u001b[39;00m\u001b[38;5;21;01mmodels\u001b[39;00m\u001b[38;5;21;01m.\u001b[39;00m\u001b[38;5;21;01mAdaDa\u001b[39;00m \u001b[38;5;28;01mimport\u001b[39;00m AdaDa\n",
      "File \u001b[1;32m~\\PycharmProjects\\IV_fit\\src\\IVmodelling\\models\\AdaDa.py:5\u001b[0m\n\u001b[0;32m      3\u001b[0m \u001b[38;5;28;01mimport\u001b[39;00m \u001b[38;5;21;01msys\u001b[39;00m\n\u001b[0;32m      4\u001b[0m sys\u001b[38;5;241m.\u001b[39mpath\u001b[38;5;241m.\u001b[39mappend(\u001b[38;5;124mr\u001b[39m\u001b[38;5;124m'\u001b[39m\u001b[38;5;124mC:\u001b[39m\u001b[38;5;124m\\\u001b[39m\u001b[38;5;124mUsers\u001b[39m\u001b[38;5;124m\\\u001b[39m\u001b[38;5;124mIFE12748\u001b[39m\u001b[38;5;124m\\\u001b[39m\u001b[38;5;124mPycharmProjects\u001b[39m\u001b[38;5;124m\\\u001b[39m\u001b[38;5;124mIV_fit\u001b[39m\u001b[38;5;124m'\u001b[39m)\n\u001b[1;32m----> 5\u001b[0m \u001b[38;5;28;01mfrom\u001b[39;00m \u001b[38;5;21;01mIVmodelling\u001b[39;00m\u001b[38;5;21;01m.\u001b[39;00m\u001b[38;5;21;01mdatahandling\u001b[39;00m\u001b[38;5;21;01m.\u001b[39;00m\u001b[38;5;21;01mdata_handling\u001b[39;00m \u001b[38;5;28;01mimport\u001b[39;00m DataProcessing\n\u001b[0;32m      7\u001b[0m \u001b[38;5;28;01mimport\u001b[39;00m \u001b[38;5;21;01mscipy\u001b[39;00m\u001b[38;5;21;01m.\u001b[39;00m\u001b[38;5;21;01mspecial\u001b[39;00m \u001b[38;5;28;01mas\u001b[39;00m \u001b[38;5;21;01mspecial\u001b[39;00m\n\u001b[0;32m      8\u001b[0m \u001b[38;5;28;01mimport\u001b[39;00m \u001b[38;5;21;01mrandom\u001b[39;00m\n",
      "\u001b[1;31mModuleNotFoundError\u001b[0m: No module named 'IVmodelling'"
     ]
    }
   ],
   "source": [
    "import sys\n",
    "import matplotlib.pyplot as plt\n",
    "import glob\n",
    "import os\n",
    "import pandas as pd\n",
    "import time\n",
    "\n",
    "sys.path.append(r\"C:\\Users\\IFE12748\\PycharmProjects\\IV_fit\")\n",
    "from src.IVmodelling.models.AdaDa import AdaDa"
   ]
  },
  {
   "cell_type": "code",
   "execution_count": 14,
   "id": "0b32e383-d869-449c-bfae-0f53ad118dfc",
   "metadata": {},
   "outputs": [],
   "source": [
    "sys.path.append(r\"C:\\Users\\IFE12748\\PycharmProjects\\IV_fit\")\n",
    "from src.IVmodelling.datahandling.data_handling import DataProcessing"
   ]
  },
  {
   "cell_type": "code",
   "execution_count": null,
   "id": "ce7b0d38-9c2a-40a1-8a9a-64fd669356af",
   "metadata": {},
   "outputs": [],
   "source": [
    "path = r'C:\\Users\\IFE12748\\Downloads\\Swe_1_svart_STC.csv'"
   ]
  },
  {
   "cell_type": "code",
   "execution_count": null,
   "id": "0a677fe7-1072-49e5-9d42-83f6afc8b5b5",
   "metadata": {},
   "outputs": [],
   "source": [
    "\n",
    "path = r'C:\\Users\\IFE12748\\Downloads\\Swe_1_svart_STC.csv'\n",
    "ada = AdaDa(equation='single diode', path=path, N_cell=60, light_iv=True)\n",
    "ada.algorythm()\n",
    "parameters = ada.best_params\n",
    "print(parameters)\n",
    "#lightIV_parameters[moduleID] = parameters\n",
    "l#ightIV_data[moduleID] = ada.iv_mod_df\n",
    "fig2, ax2 = plt.subplots(figsize=(10, 10))\n",
    "ax2.set_title(f'LightIV IV curve {directory_name} module {moduleID} ', fontsize=20)\n",
    "ax2.set_ylabel('Current [A]', fontsize=20)\n",
    "ax2.set_xlabel('Voltage [V]', fontsize=20)\n",
    "ax2.tick_params(axis='both', which='major', labelsize=15)\n",
    "ax2.plot(ada.iv_df.Voltage, ada.iv_df.Current, label='data')\n",
    "\n",
    "ax2.scatter(ada.iv_mod_df.Voltage, ada.iv_mod_df.Current, label='SD model', marker='x', color='orange')\n",
    "ax2.legend()\n",
    "plt.show()"
   ]
  },
  {
   "cell_type": "code",
   "execution_count": null,
   "id": "83e94476-e61f-4dad-be89-1e8c2cc1be56",
   "metadata": {},
   "outputs": [],
   "source": []
  },
  {
   "cell_type": "code",
   "execution_count": null,
   "id": "4b649ed9-a885-402a-bc34-4de23986c545",
   "metadata": {},
   "outputs": [],
   "source": []
  }
 ],
 "metadata": {
  "kernelspec": {
   "display_name": "Python 3 (ipykernel)",
   "language": "python",
   "name": "python3"
  },
  "language_info": {
   "codemirror_mode": {
    "name": "ipython",
    "version": 3
   },
   "file_extension": ".py",
   "mimetype": "text/x-python",
   "name": "python",
   "nbconvert_exporter": "python",
   "pygments_lexer": "ipython3",
   "version": "3.11.4"
  }
 },
 "nbformat": 4,
 "nbformat_minor": 5
}
